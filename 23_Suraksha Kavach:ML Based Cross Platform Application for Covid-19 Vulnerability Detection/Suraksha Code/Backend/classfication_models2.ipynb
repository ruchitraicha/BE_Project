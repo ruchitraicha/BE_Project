{
 "cells": [
  {
   "cell_type": "code",
   "execution_count": 1,
   "metadata": {},
   "outputs": [],
   "source": [
    "import pandas as pd\n",
    "import numpy as np\n",
    "import matplotlib.pyplot as plt\n",
    "import seaborn as sns\n",
    "from sklearn.ensemble import RandomForestRegressor\n",
    "from sklearn.model_selection import train_test_split\n",
    "from sklearn.preprocessing import StandardScaler\n",
    "from scipy.stats import skew\n",
    "from sklearn.preprocessing import LabelEncoder\n",
    "from sklearn.metrics import mean_squared_error, r2_score\n",
    "from sklearn import metrics\n",
    "from sklearn.tree import DecisionTreeClassifier\n",
    "from sklearn.model_selection import train_test_split\n",
    "from sklearn.metrics import roc_curve,roc_auc_score,f1_score\n",
    "from sklearn.ensemble import RandomForestClassifier\n",
    "from sklearn.metrics import confusion_matrix\n",
    "from sklearn.metrics import accuracy_score\n",
    "from sklearn.metrics import roc_curve\n",
    "from sklearn.metrics import f1_score\n",
    "from sklearn.metrics import precision_score,recall_score\n",
    "from sklearn.metrics import roc_auc_score,roc_curve\n",
    "from sklearn.ensemble import RandomForestRegressor"
   ]
  },
  {
   "cell_type": "code",
   "execution_count": 2,
   "metadata": {},
   "outputs": [],
   "source": [
    "df1=pd.read_csv(\"finalcsvforageandstate1.csv\")"
   ]
  },
  {
   "cell_type": "code",
   "execution_count": 3,
   "metadata": {},
   "outputs": [],
   "source": [
    "df1=df1[[\"Date\",\"Age_Bracket\",\"State/UnionTerritory\",\"Sno\",\"Time\",\"ConfirmedIndianNational\",\"ConfirmedForeignNational\",\"Cured\",\"Deaths\",\"Confirmed\",\"ChangePercent\",\"vulnareable\"]]"
   ]
  },
  {
   "cell_type": "code",
   "execution_count": 4,
   "metadata": {},
   "outputs": [
    {
     "data": {
      "text/html": [
       "<div>\n",
       "<style scoped>\n",
       "    .dataframe tbody tr th:only-of-type {\n",
       "        vertical-align: middle;\n",
       "    }\n",
       "\n",
       "    .dataframe tbody tr th {\n",
       "        vertical-align: top;\n",
       "    }\n",
       "\n",
       "    .dataframe thead th {\n",
       "        text-align: right;\n",
       "    }\n",
       "</style>\n",
       "<table border=\"1\" class=\"dataframe\">\n",
       "  <thead>\n",
       "    <tr style=\"text-align: right;\">\n",
       "      <th></th>\n",
       "      <th>Date</th>\n",
       "      <th>Age_Bracket</th>\n",
       "      <th>State/UnionTerritory</th>\n",
       "      <th>Sno</th>\n",
       "      <th>Time</th>\n",
       "      <th>ConfirmedIndianNational</th>\n",
       "      <th>ConfirmedForeignNational</th>\n",
       "      <th>Cured</th>\n",
       "      <th>Deaths</th>\n",
       "      <th>Confirmed</th>\n",
       "      <th>ChangePercent</th>\n",
       "      <th>vulnareable</th>\n",
       "    </tr>\n",
       "  </thead>\n",
       "  <tbody>\n",
       "    <tr>\n",
       "      <th>0</th>\n",
       "      <td>2020-04-03</td>\n",
       "      <td>55</td>\n",
       "      <td>Haryana</td>\n",
       "      <td>598.0</td>\n",
       "      <td>6:00 PM</td>\n",
       "      <td>-</td>\n",
       "      <td>-</td>\n",
       "      <td>24.0</td>\n",
       "      <td>0.0</td>\n",
       "      <td>49.0</td>\n",
       "      <td>0.750000</td>\n",
       "      <td>2</td>\n",
       "    </tr>\n",
       "    <tr>\n",
       "      <th>1</th>\n",
       "      <td>2020-04-03</td>\n",
       "      <td>55</td>\n",
       "      <td>Haryana</td>\n",
       "      <td>598.0</td>\n",
       "      <td>6:00 PM</td>\n",
       "      <td>-</td>\n",
       "      <td>-</td>\n",
       "      <td>24.0</td>\n",
       "      <td>0.0</td>\n",
       "      <td>49.0</td>\n",
       "      <td>0.750000</td>\n",
       "      <td>2</td>\n",
       "    </tr>\n",
       "    <tr>\n",
       "      <th>2</th>\n",
       "      <td>2020-04-03</td>\n",
       "      <td>55</td>\n",
       "      <td>Haryana</td>\n",
       "      <td>598.0</td>\n",
       "      <td>6:00 PM</td>\n",
       "      <td>-</td>\n",
       "      <td>-</td>\n",
       "      <td>24.0</td>\n",
       "      <td>0.0</td>\n",
       "      <td>49.0</td>\n",
       "      <td>0.750000</td>\n",
       "      <td>2</td>\n",
       "    </tr>\n",
       "    <tr>\n",
       "      <th>3</th>\n",
       "      <td>2020-04-03</td>\n",
       "      <td>55</td>\n",
       "      <td>Haryana</td>\n",
       "      <td>598.0</td>\n",
       "      <td>6:00 PM</td>\n",
       "      <td>-</td>\n",
       "      <td>-</td>\n",
       "      <td>24.0</td>\n",
       "      <td>0.0</td>\n",
       "      <td>49.0</td>\n",
       "      <td>0.750000</td>\n",
       "      <td>2</td>\n",
       "    </tr>\n",
       "    <tr>\n",
       "      <th>4</th>\n",
       "      <td>2020-04-03</td>\n",
       "      <td>55</td>\n",
       "      <td>Haryana</td>\n",
       "      <td>598.0</td>\n",
       "      <td>6:00 PM</td>\n",
       "      <td>-</td>\n",
       "      <td>-</td>\n",
       "      <td>24.0</td>\n",
       "      <td>0.0</td>\n",
       "      <td>49.0</td>\n",
       "      <td>0.750000</td>\n",
       "      <td>2</td>\n",
       "    </tr>\n",
       "    <tr>\n",
       "      <th>...</th>\n",
       "      <td>...</td>\n",
       "      <td>...</td>\n",
       "      <td>...</td>\n",
       "      <td>...</td>\n",
       "      <td>...</td>\n",
       "      <td>...</td>\n",
       "      <td>...</td>\n",
       "      <td>...</td>\n",
       "      <td>...</td>\n",
       "      <td>...</td>\n",
       "      <td>...</td>\n",
       "      <td>...</td>\n",
       "    </tr>\n",
       "    <tr>\n",
       "      <th>98365</th>\n",
       "      <td>2020-06-08</td>\n",
       "      <td>58</td>\n",
       "      <td>Karnataka</td>\n",
       "      <td>2790.0</td>\n",
       "      <td>8:00 AM</td>\n",
       "      <td>-</td>\n",
       "      <td>-</td>\n",
       "      <td>2132.0</td>\n",
       "      <td>61.0</td>\n",
       "      <td>5452.0</td>\n",
       "      <td>1.152388</td>\n",
       "      <td>2</td>\n",
       "    </tr>\n",
       "    <tr>\n",
       "      <th>98366</th>\n",
       "      <td>2020-06-08</td>\n",
       "      <td>69</td>\n",
       "      <td>Karnataka</td>\n",
       "      <td>2790.0</td>\n",
       "      <td>8:00 AM</td>\n",
       "      <td>-</td>\n",
       "      <td>-</td>\n",
       "      <td>2132.0</td>\n",
       "      <td>61.0</td>\n",
       "      <td>5452.0</td>\n",
       "      <td>1.152388</td>\n",
       "      <td>2</td>\n",
       "    </tr>\n",
       "    <tr>\n",
       "      <th>98367</th>\n",
       "      <td>2020-06-08</td>\n",
       "      <td>80</td>\n",
       "      <td>Karnataka</td>\n",
       "      <td>2790.0</td>\n",
       "      <td>8:00 AM</td>\n",
       "      <td>-</td>\n",
       "      <td>-</td>\n",
       "      <td>2132.0</td>\n",
       "      <td>61.0</td>\n",
       "      <td>5452.0</td>\n",
       "      <td>1.152388</td>\n",
       "      <td>2</td>\n",
       "    </tr>\n",
       "    <tr>\n",
       "      <th>98368</th>\n",
       "      <td>2020-06-08</td>\n",
       "      <td>52</td>\n",
       "      <td>Karnataka</td>\n",
       "      <td>2790.0</td>\n",
       "      <td>8:00 AM</td>\n",
       "      <td>-</td>\n",
       "      <td>-</td>\n",
       "      <td>2132.0</td>\n",
       "      <td>61.0</td>\n",
       "      <td>5452.0</td>\n",
       "      <td>1.152388</td>\n",
       "      <td>2</td>\n",
       "    </tr>\n",
       "    <tr>\n",
       "      <th>98369</th>\n",
       "      <td>2020-06-08</td>\n",
       "      <td>65</td>\n",
       "      <td>Karnataka</td>\n",
       "      <td>2790.0</td>\n",
       "      <td>8:00 AM</td>\n",
       "      <td>-</td>\n",
       "      <td>-</td>\n",
       "      <td>2132.0</td>\n",
       "      <td>61.0</td>\n",
       "      <td>5452.0</td>\n",
       "      <td>1.152388</td>\n",
       "      <td>2</td>\n",
       "    </tr>\n",
       "  </tbody>\n",
       "</table>\n",
       "<p>98370 rows × 12 columns</p>\n",
       "</div>"
      ],
      "text/plain": [
       "             Date Age_Bracket State/UnionTerritory     Sno     Time  \\\n",
       "0      2020-04-03          55              Haryana   598.0  6:00 PM   \n",
       "1      2020-04-03          55              Haryana   598.0  6:00 PM   \n",
       "2      2020-04-03          55              Haryana   598.0  6:00 PM   \n",
       "3      2020-04-03          55              Haryana   598.0  6:00 PM   \n",
       "4      2020-04-03          55              Haryana   598.0  6:00 PM   \n",
       "...           ...         ...                  ...     ...      ...   \n",
       "98365  2020-06-08          58            Karnataka  2790.0  8:00 AM   \n",
       "98366  2020-06-08          69            Karnataka  2790.0  8:00 AM   \n",
       "98367  2020-06-08          80            Karnataka  2790.0  8:00 AM   \n",
       "98368  2020-06-08          52            Karnataka  2790.0  8:00 AM   \n",
       "98369  2020-06-08          65            Karnataka  2790.0  8:00 AM   \n",
       "\n",
       "      ConfirmedIndianNational ConfirmedForeignNational   Cured  Deaths  \\\n",
       "0                           -                        -    24.0     0.0   \n",
       "1                           -                        -    24.0     0.0   \n",
       "2                           -                        -    24.0     0.0   \n",
       "3                           -                        -    24.0     0.0   \n",
       "4                           -                        -    24.0     0.0   \n",
       "...                       ...                      ...     ...     ...   \n",
       "98365                       -                        -  2132.0    61.0   \n",
       "98366                       -                        -  2132.0    61.0   \n",
       "98367                       -                        -  2132.0    61.0   \n",
       "98368                       -                        -  2132.0    61.0   \n",
       "98369                       -                        -  2132.0    61.0   \n",
       "\n",
       "       Confirmed  ChangePercent  vulnareable  \n",
       "0           49.0       0.750000            2  \n",
       "1           49.0       0.750000            2  \n",
       "2           49.0       0.750000            2  \n",
       "3           49.0       0.750000            2  \n",
       "4           49.0       0.750000            2  \n",
       "...          ...            ...          ...  \n",
       "98365     5452.0       1.152388            2  \n",
       "98366     5452.0       1.152388            2  \n",
       "98367     5452.0       1.152388            2  \n",
       "98368     5452.0       1.152388            2  \n",
       "98369     5452.0       1.152388            2  \n",
       "\n",
       "[98370 rows x 12 columns]"
      ]
     },
     "execution_count": 4,
     "metadata": {},
     "output_type": "execute_result"
    }
   ],
   "source": [
    "df1"
   ]
  },
  {
   "cell_type": "code",
   "execution_count": 5,
   "metadata": {},
   "outputs": [],
   "source": [
    "df1=df1[['Age_Bracket','State/UnionTerritory','vulnareable']]"
   ]
  },
  {
   "cell_type": "code",
   "execution_count": 6,
   "metadata": {},
   "outputs": [
    {
     "name": "stderr",
     "output_type": "stream",
     "text": [
      "C:\\Users\\Devanand\\anaconda3\\lib\\site-packages\\ipykernel_launcher.py:5: SettingWithCopyWarning: \n",
      "A value is trying to be set on a copy of a slice from a DataFrame.\n",
      "Try using .loc[row_indexer,col_indexer] = value instead\n",
      "\n",
      "See the caveats in the documentation: https://pandas.pydata.org/pandas-docs/stable/user_guide/indexing.html#returning-a-view-versus-a-copy\n",
      "  \"\"\"\n"
     ]
    }
   ],
   "source": [
    "from sklearn import preprocessing\n",
    "import numpy as np\n",
    "\n",
    "le = preprocessing.LabelEncoder()\n",
    "df1['State/UnionTerritory_cat']=le.fit_transform(df1['State/UnionTerritory'])"
   ]
  },
  {
   "cell_type": "code",
   "execution_count": 7,
   "metadata": {},
   "outputs": [
    {
     "data": {
      "text/html": [
       "<div>\n",
       "<style scoped>\n",
       "    .dataframe tbody tr th:only-of-type {\n",
       "        vertical-align: middle;\n",
       "    }\n",
       "\n",
       "    .dataframe tbody tr th {\n",
       "        vertical-align: top;\n",
       "    }\n",
       "\n",
       "    .dataframe thead th {\n",
       "        text-align: right;\n",
       "    }\n",
       "</style>\n",
       "<table border=\"1\" class=\"dataframe\">\n",
       "  <thead>\n",
       "    <tr style=\"text-align: right;\">\n",
       "      <th></th>\n",
       "      <th>Age_Bracket</th>\n",
       "      <th>State/UnionTerritory</th>\n",
       "      <th>vulnareable</th>\n",
       "      <th>State/UnionTerritory_cat</th>\n",
       "    </tr>\n",
       "  </thead>\n",
       "  <tbody>\n",
       "    <tr>\n",
       "      <th>0</th>\n",
       "      <td>55</td>\n",
       "      <td>Haryana</td>\n",
       "      <td>2</td>\n",
       "      <td>9</td>\n",
       "    </tr>\n",
       "    <tr>\n",
       "      <th>1</th>\n",
       "      <td>55</td>\n",
       "      <td>Haryana</td>\n",
       "      <td>2</td>\n",
       "      <td>9</td>\n",
       "    </tr>\n",
       "    <tr>\n",
       "      <th>2</th>\n",
       "      <td>55</td>\n",
       "      <td>Haryana</td>\n",
       "      <td>2</td>\n",
       "      <td>9</td>\n",
       "    </tr>\n",
       "    <tr>\n",
       "      <th>3</th>\n",
       "      <td>55</td>\n",
       "      <td>Haryana</td>\n",
       "      <td>2</td>\n",
       "      <td>9</td>\n",
       "    </tr>\n",
       "    <tr>\n",
       "      <th>4</th>\n",
       "      <td>55</td>\n",
       "      <td>Haryana</td>\n",
       "      <td>2</td>\n",
       "      <td>9</td>\n",
       "    </tr>\n",
       "    <tr>\n",
       "      <th>...</th>\n",
       "      <td>...</td>\n",
       "      <td>...</td>\n",
       "      <td>...</td>\n",
       "      <td>...</td>\n",
       "    </tr>\n",
       "    <tr>\n",
       "      <th>98365</th>\n",
       "      <td>58</td>\n",
       "      <td>Karnataka</td>\n",
       "      <td>2</td>\n",
       "      <td>13</td>\n",
       "    </tr>\n",
       "    <tr>\n",
       "      <th>98366</th>\n",
       "      <td>69</td>\n",
       "      <td>Karnataka</td>\n",
       "      <td>2</td>\n",
       "      <td>13</td>\n",
       "    </tr>\n",
       "    <tr>\n",
       "      <th>98367</th>\n",
       "      <td>80</td>\n",
       "      <td>Karnataka</td>\n",
       "      <td>2</td>\n",
       "      <td>13</td>\n",
       "    </tr>\n",
       "    <tr>\n",
       "      <th>98368</th>\n",
       "      <td>52</td>\n",
       "      <td>Karnataka</td>\n",
       "      <td>2</td>\n",
       "      <td>13</td>\n",
       "    </tr>\n",
       "    <tr>\n",
       "      <th>98369</th>\n",
       "      <td>65</td>\n",
       "      <td>Karnataka</td>\n",
       "      <td>2</td>\n",
       "      <td>13</td>\n",
       "    </tr>\n",
       "  </tbody>\n",
       "</table>\n",
       "<p>98370 rows × 4 columns</p>\n",
       "</div>"
      ],
      "text/plain": [
       "      Age_Bracket State/UnionTerritory  vulnareable  State/UnionTerritory_cat\n",
       "0              55              Haryana            2                         9\n",
       "1              55              Haryana            2                         9\n",
       "2              55              Haryana            2                         9\n",
       "3              55              Haryana            2                         9\n",
       "4              55              Haryana            2                         9\n",
       "...           ...                  ...          ...                       ...\n",
       "98365          58            Karnataka            2                        13\n",
       "98366          69            Karnataka            2                        13\n",
       "98367          80            Karnataka            2                        13\n",
       "98368          52            Karnataka            2                        13\n",
       "98369          65            Karnataka            2                        13\n",
       "\n",
       "[98370 rows x 4 columns]"
      ]
     },
     "execution_count": 7,
     "metadata": {},
     "output_type": "execute_result"
    }
   ],
   "source": [
    "df1"
   ]
  },
  {
   "cell_type": "code",
   "execution_count": 8,
   "metadata": {},
   "outputs": [],
   "source": [
    "df1.to_csv(\"processed.csv\")"
   ]
  },
  {
   "cell_type": "code",
   "execution_count": 9,
   "metadata": {},
   "outputs": [],
   "source": [
    "df1=df1[['Age_Bracket','State/UnionTerritory_cat','vulnareable']]"
   ]
  },
  {
   "cell_type": "code",
   "execution_count": 10,
   "metadata": {},
   "outputs": [],
   "source": [
    "k=df1[df1[['Age_Bracket']].apply(lambda x: x[0].isdigit() or x[0].replace('.', '', 1).isdigit(), axis=1)]"
   ]
  },
  {
   "cell_type": "code",
   "execution_count": 11,
   "metadata": {},
   "outputs": [
    {
     "data": {
      "text/html": [
       "<div>\n",
       "<style scoped>\n",
       "    .dataframe tbody tr th:only-of-type {\n",
       "        vertical-align: middle;\n",
       "    }\n",
       "\n",
       "    .dataframe tbody tr th {\n",
       "        vertical-align: top;\n",
       "    }\n",
       "\n",
       "    .dataframe thead th {\n",
       "        text-align: right;\n",
       "    }\n",
       "</style>\n",
       "<table border=\"1\" class=\"dataframe\">\n",
       "  <thead>\n",
       "    <tr style=\"text-align: right;\">\n",
       "      <th></th>\n",
       "      <th>Age_Bracket</th>\n",
       "      <th>State/UnionTerritory_cat</th>\n",
       "      <th>vulnareable</th>\n",
       "    </tr>\n",
       "  </thead>\n",
       "  <tbody>\n",
       "    <tr>\n",
       "      <th>0</th>\n",
       "      <td>55</td>\n",
       "      <td>9</td>\n",
       "      <td>2</td>\n",
       "    </tr>\n",
       "    <tr>\n",
       "      <th>1</th>\n",
       "      <td>55</td>\n",
       "      <td>9</td>\n",
       "      <td>2</td>\n",
       "    </tr>\n",
       "    <tr>\n",
       "      <th>2</th>\n",
       "      <td>55</td>\n",
       "      <td>9</td>\n",
       "      <td>2</td>\n",
       "    </tr>\n",
       "    <tr>\n",
       "      <th>3</th>\n",
       "      <td>55</td>\n",
       "      <td>9</td>\n",
       "      <td>2</td>\n",
       "    </tr>\n",
       "    <tr>\n",
       "      <th>4</th>\n",
       "      <td>55</td>\n",
       "      <td>9</td>\n",
       "      <td>2</td>\n",
       "    </tr>\n",
       "    <tr>\n",
       "      <th>...</th>\n",
       "      <td>...</td>\n",
       "      <td>...</td>\n",
       "      <td>...</td>\n",
       "    </tr>\n",
       "    <tr>\n",
       "      <th>98365</th>\n",
       "      <td>58</td>\n",
       "      <td>13</td>\n",
       "      <td>2</td>\n",
       "    </tr>\n",
       "    <tr>\n",
       "      <th>98366</th>\n",
       "      <td>69</td>\n",
       "      <td>13</td>\n",
       "      <td>2</td>\n",
       "    </tr>\n",
       "    <tr>\n",
       "      <th>98367</th>\n",
       "      <td>80</td>\n",
       "      <td>13</td>\n",
       "      <td>2</td>\n",
       "    </tr>\n",
       "    <tr>\n",
       "      <th>98368</th>\n",
       "      <td>52</td>\n",
       "      <td>13</td>\n",
       "      <td>2</td>\n",
       "    </tr>\n",
       "    <tr>\n",
       "      <th>98369</th>\n",
       "      <td>65</td>\n",
       "      <td>13</td>\n",
       "      <td>2</td>\n",
       "    </tr>\n",
       "  </tbody>\n",
       "</table>\n",
       "<p>98354 rows × 3 columns</p>\n",
       "</div>"
      ],
      "text/plain": [
       "      Age_Bracket  State/UnionTerritory_cat  vulnareable\n",
       "0              55                         9            2\n",
       "1              55                         9            2\n",
       "2              55                         9            2\n",
       "3              55                         9            2\n",
       "4              55                         9            2\n",
       "...           ...                       ...          ...\n",
       "98365          58                        13            2\n",
       "98366          69                        13            2\n",
       "98367          80                        13            2\n",
       "98368          52                        13            2\n",
       "98369          65                        13            2\n",
       "\n",
       "[98354 rows x 3 columns]"
      ]
     },
     "execution_count": 11,
     "metadata": {},
     "output_type": "execute_result"
    }
   ],
   "source": [
    "k"
   ]
  },
  {
   "cell_type": "code",
   "execution_count": 12,
   "metadata": {},
   "outputs": [],
   "source": [
    "a=k[k['vulnareable']==2]#64847\n",
    "b=k[k['vulnareable']==1]#15926\n",
    "c=k[k['vulnareable']==0]#17581"
   ]
  },
  {
   "cell_type": "code",
   "execution_count": 13,
   "metadata": {},
   "outputs": [],
   "source": [
    "a=a[:15926]"
   ]
  },
  {
   "cell_type": "code",
   "execution_count": 14,
   "metadata": {},
   "outputs": [
    {
     "data": {
      "text/html": [
       "<div>\n",
       "<style scoped>\n",
       "    .dataframe tbody tr th:only-of-type {\n",
       "        vertical-align: middle;\n",
       "    }\n",
       "\n",
       "    .dataframe tbody tr th {\n",
       "        vertical-align: top;\n",
       "    }\n",
       "\n",
       "    .dataframe thead th {\n",
       "        text-align: right;\n",
       "    }\n",
       "</style>\n",
       "<table border=\"1\" class=\"dataframe\">\n",
       "  <thead>\n",
       "    <tr style=\"text-align: right;\">\n",
       "      <th></th>\n",
       "      <th>Age_Bracket</th>\n",
       "      <th>State/UnionTerritory_cat</th>\n",
       "      <th>vulnareable</th>\n",
       "    </tr>\n",
       "  </thead>\n",
       "  <tbody>\n",
       "    <tr>\n",
       "      <th>0</th>\n",
       "      <td>55</td>\n",
       "      <td>9</td>\n",
       "      <td>2</td>\n",
       "    </tr>\n",
       "    <tr>\n",
       "      <th>1</th>\n",
       "      <td>55</td>\n",
       "      <td>9</td>\n",
       "      <td>2</td>\n",
       "    </tr>\n",
       "    <tr>\n",
       "      <th>2</th>\n",
       "      <td>55</td>\n",
       "      <td>9</td>\n",
       "      <td>2</td>\n",
       "    </tr>\n",
       "    <tr>\n",
       "      <th>3</th>\n",
       "      <td>55</td>\n",
       "      <td>9</td>\n",
       "      <td>2</td>\n",
       "    </tr>\n",
       "    <tr>\n",
       "      <th>4</th>\n",
       "      <td>55</td>\n",
       "      <td>9</td>\n",
       "      <td>2</td>\n",
       "    </tr>\n",
       "    <tr>\n",
       "      <th>...</th>\n",
       "      <td>...</td>\n",
       "      <td>...</td>\n",
       "      <td>...</td>\n",
       "    </tr>\n",
       "    <tr>\n",
       "      <th>22131</th>\n",
       "      <td>18.0</td>\n",
       "      <td>13</td>\n",
       "      <td>2</td>\n",
       "    </tr>\n",
       "    <tr>\n",
       "      <th>22132</th>\n",
       "      <td>30.0</td>\n",
       "      <td>13</td>\n",
       "      <td>2</td>\n",
       "    </tr>\n",
       "    <tr>\n",
       "      <th>22133</th>\n",
       "      <td>42.0</td>\n",
       "      <td>13</td>\n",
       "      <td>2</td>\n",
       "    </tr>\n",
       "    <tr>\n",
       "      <th>22134</th>\n",
       "      <td>45.0</td>\n",
       "      <td>13</td>\n",
       "      <td>2</td>\n",
       "    </tr>\n",
       "    <tr>\n",
       "      <th>22135</th>\n",
       "      <td>32.0</td>\n",
       "      <td>13</td>\n",
       "      <td>2</td>\n",
       "    </tr>\n",
       "  </tbody>\n",
       "</table>\n",
       "<p>15926 rows × 3 columns</p>\n",
       "</div>"
      ],
      "text/plain": [
       "      Age_Bracket  State/UnionTerritory_cat  vulnareable\n",
       "0              55                         9            2\n",
       "1              55                         9            2\n",
       "2              55                         9            2\n",
       "3              55                         9            2\n",
       "4              55                         9            2\n",
       "...           ...                       ...          ...\n",
       "22131        18.0                        13            2\n",
       "22132        30.0                        13            2\n",
       "22133        42.0                        13            2\n",
       "22134        45.0                        13            2\n",
       "22135        32.0                        13            2\n",
       "\n",
       "[15926 rows x 3 columns]"
      ]
     },
     "execution_count": 14,
     "metadata": {},
     "output_type": "execute_result"
    }
   ],
   "source": [
    "a"
   ]
  },
  {
   "cell_type": "code",
   "execution_count": 15,
   "metadata": {},
   "outputs": [],
   "source": [
    "b=b[:15926]"
   ]
  },
  {
   "cell_type": "code",
   "execution_count": 16,
   "metadata": {},
   "outputs": [],
   "source": [
    "c=c[:15926]"
   ]
  },
  {
   "cell_type": "code",
   "execution_count": 17,
   "metadata": {},
   "outputs": [],
   "source": [
    "k1=a.append(b)"
   ]
  },
  {
   "cell_type": "code",
   "execution_count": 18,
   "metadata": {},
   "outputs": [],
   "source": [
    "k2=k1.append(c)"
   ]
  },
  {
   "cell_type": "code",
   "execution_count": 19,
   "metadata": {
    "scrolled": true
   },
   "outputs": [
    {
     "data": {
      "text/html": [
       "<div>\n",
       "<style scoped>\n",
       "    .dataframe tbody tr th:only-of-type {\n",
       "        vertical-align: middle;\n",
       "    }\n",
       "\n",
       "    .dataframe tbody tr th {\n",
       "        vertical-align: top;\n",
       "    }\n",
       "\n",
       "    .dataframe thead th {\n",
       "        text-align: right;\n",
       "    }\n",
       "</style>\n",
       "<table border=\"1\" class=\"dataframe\">\n",
       "  <thead>\n",
       "    <tr style=\"text-align: right;\">\n",
       "      <th></th>\n",
       "      <th>Age_Bracket</th>\n",
       "      <th>State/UnionTerritory_cat</th>\n",
       "      <th>vulnareable</th>\n",
       "    </tr>\n",
       "  </thead>\n",
       "  <tbody>\n",
       "    <tr>\n",
       "      <th>0</th>\n",
       "      <td>55</td>\n",
       "      <td>9</td>\n",
       "      <td>2</td>\n",
       "    </tr>\n",
       "    <tr>\n",
       "      <th>1</th>\n",
       "      <td>55</td>\n",
       "      <td>9</td>\n",
       "      <td>2</td>\n",
       "    </tr>\n",
       "    <tr>\n",
       "      <th>2</th>\n",
       "      <td>55</td>\n",
       "      <td>9</td>\n",
       "      <td>2</td>\n",
       "    </tr>\n",
       "    <tr>\n",
       "      <th>3</th>\n",
       "      <td>55</td>\n",
       "      <td>9</td>\n",
       "      <td>2</td>\n",
       "    </tr>\n",
       "    <tr>\n",
       "      <th>4</th>\n",
       "      <td>55</td>\n",
       "      <td>9</td>\n",
       "      <td>2</td>\n",
       "    </tr>\n",
       "    <tr>\n",
       "      <th>...</th>\n",
       "      <td>...</td>\n",
       "      <td>...</td>\n",
       "      <td>...</td>\n",
       "    </tr>\n",
       "    <tr>\n",
       "      <th>62329</th>\n",
       "      <td>43</td>\n",
       "      <td>13</td>\n",
       "      <td>0</td>\n",
       "    </tr>\n",
       "    <tr>\n",
       "      <th>62330</th>\n",
       "      <td>27</td>\n",
       "      <td>13</td>\n",
       "      <td>0</td>\n",
       "    </tr>\n",
       "    <tr>\n",
       "      <th>62331</th>\n",
       "      <td>65</td>\n",
       "      <td>13</td>\n",
       "      <td>0</td>\n",
       "    </tr>\n",
       "    <tr>\n",
       "      <th>62332</th>\n",
       "      <td>57</td>\n",
       "      <td>13</td>\n",
       "      <td>0</td>\n",
       "    </tr>\n",
       "    <tr>\n",
       "      <th>62333</th>\n",
       "      <td>42</td>\n",
       "      <td>13</td>\n",
       "      <td>0</td>\n",
       "    </tr>\n",
       "  </tbody>\n",
       "</table>\n",
       "<p>47778 rows × 3 columns</p>\n",
       "</div>"
      ],
      "text/plain": [
       "      Age_Bracket  State/UnionTerritory_cat  vulnareable\n",
       "0              55                         9            2\n",
       "1              55                         9            2\n",
       "2              55                         9            2\n",
       "3              55                         9            2\n",
       "4              55                         9            2\n",
       "...           ...                       ...          ...\n",
       "62329          43                        13            0\n",
       "62330          27                        13            0\n",
       "62331          65                        13            0\n",
       "62332          57                        13            0\n",
       "62333          42                        13            0\n",
       "\n",
       "[47778 rows x 3 columns]"
      ]
     },
     "execution_count": 19,
     "metadata": {},
     "output_type": "execute_result"
    }
   ],
   "source": [
    "k2"
   ]
  },
  {
   "cell_type": "code",
   "execution_count": 20,
   "metadata": {},
   "outputs": [
    {
     "data": {
      "text/html": [
       "<div>\n",
       "<style scoped>\n",
       "    .dataframe tbody tr th:only-of-type {\n",
       "        vertical-align: middle;\n",
       "    }\n",
       "\n",
       "    .dataframe tbody tr th {\n",
       "        vertical-align: top;\n",
       "    }\n",
       "\n",
       "    .dataframe thead th {\n",
       "        text-align: right;\n",
       "    }\n",
       "</style>\n",
       "<table border=\"1\" class=\"dataframe\">\n",
       "  <thead>\n",
       "    <tr style=\"text-align: right;\">\n",
       "      <th></th>\n",
       "      <th>Age_Bracket</th>\n",
       "      <th>State/UnionTerritory_cat</th>\n",
       "      <th>vulnareable</th>\n",
       "    </tr>\n",
       "  </thead>\n",
       "  <tbody>\n",
       "    <tr>\n",
       "      <th>21</th>\n",
       "      <td>45</td>\n",
       "      <td>24</td>\n",
       "      <td>1</td>\n",
       "    </tr>\n",
       "    <tr>\n",
       "      <th>29</th>\n",
       "      <td>46</td>\n",
       "      <td>13</td>\n",
       "      <td>1</td>\n",
       "    </tr>\n",
       "    <tr>\n",
       "      <th>30</th>\n",
       "      <td>3</td>\n",
       "      <td>14</td>\n",
       "      <td>1</td>\n",
       "    </tr>\n",
       "    <tr>\n",
       "      <th>35</th>\n",
       "      <td>96</td>\n",
       "      <td>14</td>\n",
       "      <td>1</td>\n",
       "    </tr>\n",
       "    <tr>\n",
       "      <th>36</th>\n",
       "      <td>89</td>\n",
       "      <td>14</td>\n",
       "      <td>1</td>\n",
       "    </tr>\n",
       "    <tr>\n",
       "      <th>...</th>\n",
       "      <td>...</td>\n",
       "      <td>...</td>\n",
       "      <td>...</td>\n",
       "    </tr>\n",
       "    <tr>\n",
       "      <th>98261</th>\n",
       "      <td>70</td>\n",
       "      <td>13</td>\n",
       "      <td>1</td>\n",
       "    </tr>\n",
       "    <tr>\n",
       "      <th>98262</th>\n",
       "      <td>65</td>\n",
       "      <td>13</td>\n",
       "      <td>1</td>\n",
       "    </tr>\n",
       "    <tr>\n",
       "      <th>98263</th>\n",
       "      <td>65</td>\n",
       "      <td>13</td>\n",
       "      <td>1</td>\n",
       "    </tr>\n",
       "    <tr>\n",
       "      <th>98264</th>\n",
       "      <td>70</td>\n",
       "      <td>13</td>\n",
       "      <td>1</td>\n",
       "    </tr>\n",
       "    <tr>\n",
       "      <th>98265</th>\n",
       "      <td>70</td>\n",
       "      <td>13</td>\n",
       "      <td>1</td>\n",
       "    </tr>\n",
       "  </tbody>\n",
       "</table>\n",
       "<p>15926 rows × 3 columns</p>\n",
       "</div>"
      ],
      "text/plain": [
       "      Age_Bracket  State/UnionTerritory_cat  vulnareable\n",
       "21             45                        24            1\n",
       "29             46                        13            1\n",
       "30              3                        14            1\n",
       "35             96                        14            1\n",
       "36             89                        14            1\n",
       "...           ...                       ...          ...\n",
       "98261          70                        13            1\n",
       "98262          65                        13            1\n",
       "98263          65                        13            1\n",
       "98264          70                        13            1\n",
       "98265          70                        13            1\n",
       "\n",
       "[15926 rows x 3 columns]"
      ]
     },
     "execution_count": 20,
     "metadata": {},
     "output_type": "execute_result"
    }
   ],
   "source": [
    "k2.loc[k2[\"vulnareable\"]==1]"
   ]
  },
  {
   "cell_type": "code",
   "execution_count": 21,
   "metadata": {},
   "outputs": [],
   "source": [
    "df = k2.astype({\"Age_Bracket\": float, \"State/UnionTerritory_cat\": float,\"vulnareable\": float})"
   ]
  },
  {
   "cell_type": "code",
   "execution_count": 22,
   "metadata": {},
   "outputs": [
    {
     "data": {
      "image/png": "[encoded data removed]",
      "text/plain": [
       "<Figure size 1008x864 with 2 Axes>"
      ]
     },
     "metadata": {
      "needs_background": "light"
     },
     "output_type": "display_data"
    }
   ],
   "source": [
    "plt.figure(figsize=(14,12))\n",
    "sns.heatmap(df.corr(), annot=True)\n",
    "plt.show()"
   ]
  },
  {
   "cell_type": "code",
   "execution_count": 23,
   "metadata": {},
   "outputs": [],
   "source": [
    "x = df[['Age_Bracket','State/UnionTerritory_cat']]#Independent Variable\n",
    "y = df['vulnareable']# Dependent Variable\n",
    "x_train,x_test , y_train, y_test = train_test_split(x,y,test_size=0.25)"
   ]
  },
  {
   "cell_type": "code",
   "execution_count": 24,
   "metadata": {},
   "outputs": [
    {
     "data": {
      "text/plain": [
       "51.34"
      ]
     },
     "execution_count": 24,
     "metadata": {},
     "output_type": "execute_result"
    }
   ],
   "source": [
    "from sklearn.linear_model import LogisticRegression#(logistic Fuction)\n",
    "\n",
    "lr = LogisticRegression()\n",
    "\n",
    "lr.fit(x_train,y_train)\n",
    "\n",
    "Y_pred_lr = lr.predict(x_test)\n",
    "score_lr = round(accuracy_score(Y_pred_lr,y_test)*100,2)\n",
    "score_lr"
   ]
  },
  {
   "cell_type": "code",
   "execution_count": 25,
   "metadata": {},
   "outputs": [
    {
     "data": {
      "text/plain": [
       "<matplotlib.axes._subplots.AxesSubplot at 0x26b09f7ba48>"
      ]
     },
     "execution_count": 25,
     "metadata": {},
     "output_type": "execute_result"
    },
    {
     "data": {
      "image/png": "[encoded data removed]",
      "text/plain": [
       "<Figure size 432x288 with 1 Axes>"
      ]
     },
     "metadata": {
      "needs_background": "light"
     },
     "output_type": "display_data"
    }
   ],
   "source": [
    "lr_cm=confusion_matrix(y_test,Y_pred_lr)\n",
    "plt.title(\"LogisticRegression_cm\")\n",
    "sns.heatmap(lr_cm,annot=True,cmap=\"Blues\",fmt=\"d\",cbar=False)"
   ]
  },
  {
   "cell_type": "code",
   "execution_count": 26,
   "metadata": {},
   "outputs": [
    {
     "name": "stdout",
     "output_type": "stream",
     "text": [
      "The accuracy score achieved using Naive Bayes is: 53.28 %\n"
     ]
    }
   ],
   "source": [
    "from sklearn.naive_bayes import GaussianNB\n",
    "\n",
    "nb = GaussianNB()\n",
    "\n",
    "nb.fit(x_train,y_train)\n",
    "\n",
    "Y_pred_nb = nb.predict(x_test)\n",
    "score_nb = round(accuracy_score(Y_pred_nb,y_test)*100,2)\n",
    "\n",
    "print(\"The accuracy score achieved using Naive Bayes is: \"+str(score_nb)+\" %\")"
   ]
  },
  {
   "cell_type": "code",
   "execution_count": 27,
   "metadata": {},
   "outputs": [
    {
     "data": {
      "text/plain": [
       "<matplotlib.axes._subplots.AxesSubplot at 0x26b09fd6d88>"
      ]
     },
     "execution_count": 27,
     "metadata": {},
     "output_type": "execute_result"
    },
    {
     "data": {
      "image/png": "[encoded data removed]",
      "text/plain": [
       "<Figure size 432x288 with 1 Axes>"
      ]
     },
     "metadata": {
      "needs_background": "light"
     },
     "output_type": "display_data"
    }
   ],
   "source": [
    "nb_cm=confusion_matrix(y_test,Y_pred_nb)\n",
    "plt.title(\"NaiveBayes_cm\")\n",
    "sns.heatmap(nb_cm,annot=True,cmap=\"Oranges\",fmt=\"d\",cbar=False)"
   ]
  },
  {
   "cell_type": "code",
   "execution_count": 28,
   "metadata": {},
   "outputs": [
    {
     "name": "stdout",
     "output_type": "stream",
     "text": [
      "The accuracy score achieved using RBF SVM is: 53.62 %\n"
     ]
    }
   ],
   "source": [
    "from sklearn import svm\n",
    "\n",
    "sv = svm.SVC(kernel='rbf')\n",
    "\n",
    "sv.fit(x_train, y_train)\n",
    "\n",
    "Y_pred_svm = sv.predict(x_test)\n",
    "score_svm = round(accuracy_score(Y_pred_svm,y_test)*100,2)\n",
    "\n",
    "print(\"The accuracy score achieved using RBF SVM is: \"+str(score_svm)+\" %\")"
   ]
  },
  {
   "cell_type": "code",
   "execution_count": 29,
   "metadata": {},
   "outputs": [
    {
     "data": {
      "text/plain": [
       "<matplotlib.axes._subplots.AxesSubplot at 0x26b0a0432c8>"
      ]
     },
     "execution_count": 29,
     "metadata": {},
     "output_type": "execute_result"
    },
    {
     "data": {
      "image/png": "[encoded data removed]",
      "text/plain": [
       "<Figure size 432x288 with 1 Axes>"
      ]
     },
     "metadata": {
      "needs_background": "light"
     },
     "output_type": "display_data"
    }
   ],
   "source": [
    "sv_cm=confusion_matrix(y_test,Y_pred_svm)\n",
    "plt.title(\"SVM_Classification_cm\")\n",
    "sns.heatmap(sv_cm,annot=True,cmap=\"Reds\",fmt=\"d\",cbar=False)"
   ]
  },
  {
   "cell_type": "code",
   "execution_count": 30,
   "metadata": {},
   "outputs": [],
   "source": [
    "# from sklearn import svm\n",
    "\n",
    "# sv1 = svm.SVC(kernel='poly')\n",
    "\n",
    "# sv1.fit(x_train, y_train)\n",
    "\n",
    "# Y_pred_svm = sv1.predict(x_test)\n",
    "# score_svm = round(accuracy_score(Y_pred_svm,y_test)*100,2)\n",
    "\n",
    "# print(\"The accuracy score achieved using Poly SVM is: \"+str(score_svm)+\" %\")"
   ]
  },
  {
   "cell_type": "code",
   "execution_count": 31,
   "metadata": {},
   "outputs": [],
   "source": [
    "# sv_cm=confusion_matrix(y_test,Y_pred_svm)\n",
    "# plt.title(\"SVM_Classification_cm\")\n",
    "# sns.heatmap(sv_cm,annot=True,cmap=\"Reds\",fmt=\"d\",cbar=False)"
   ]
  },
  {
   "cell_type": "code",
   "execution_count": 32,
   "metadata": {},
   "outputs": [],
   "source": [
    "from sklearn.ensemble import RandomForestClassifier\n",
    "\n",
    "clf_4 = RandomForestClassifier()\n",
    "clf_4.fit(x_train, y_train)\n",
    "pred_y_4 = clf_4.predict(x_test)\n"
   ]
  },
  {
   "cell_type": "code",
   "execution_count": 33,
   "metadata": {},
   "outputs": [
    {
     "name": "stdout",
     "output_type": "stream",
     "text": [
      "0.5416492256174131\n"
     ]
    }
   ],
   "source": [
    "print(accuracy_score(y_test, pred_y_4))\n",
    "score_svm = round(accuracy_score(pred_y_4,y_test)*100,2)"
   ]
  },
  {
   "cell_type": "code",
   "execution_count": 34,
   "metadata": {},
   "outputs": [
    {
     "name": "stdout",
     "output_type": "stream",
     "text": [
      "The accuracy score achieved using Random Forest is: 54.16 %\n"
     ]
    }
   ],
   "source": [
    "print(\"The accuracy score achieved using Random Forest is: \"+str(score_svm)+\" %\")"
   ]
  },
  {
   "cell_type": "code",
   "execution_count": null,
   "metadata": {},
   "outputs": [],
   "source": []
  },
  {
   "cell_type": "markdown",
   "metadata": {},
   "source": [
    "# Code testing"
   ]
  },
  {
   "cell_type": "code",
   "execution_count": 35,
   "metadata": {},
   "outputs": [],
   "source": [
    "import pickle\n",
    "with open('lr_pickle1', 'wb') as f:\n",
    "    pickle.dump(lr,f)\n",
    "    \n",
    "if __name__=='__main__':\n",
    "    with open('lr_pickle1', 'rb') as f:\n",
    "        Naive_users = pickle.load(f)\n",
    "        \n",
    "#nb = Naive_users.predict(Train_X_Tfidf)\n",
    "#print(nb)"
   ]
  },
  {
   "cell_type": "code",
   "execution_count": 36,
   "metadata": {},
   "outputs": [],
   "source": [
    "import pickle\n",
    "with open('nb_pickle1', 'wb') as f:\n",
    "    pickle.dump(nb,f)\n",
    "    \n",
    "if __name__=='__main__':\n",
    "    with open('nb_pickle1', 'rb') as f:\n",
    "        Naive_users = pickle.load(f)\n",
    "        \n",
    "#nb = Naive_users.predict(Train_X_Tfidf)\n",
    "#print(nb)"
   ]
  },
  {
   "cell_type": "code",
   "execution_count": 37,
   "metadata": {},
   "outputs": [],
   "source": [
    "import pickle\n",
    "with open('svm_pickle1', 'wb') as f:\n",
    "    pickle.dump(sv,f)\n",
    "    \n",
    "if __name__=='__main__':\n",
    "    with open('svm_pickle1', 'rb') as f:\n",
    "        Naive_users = pickle.load(f)\n",
    "        \n",
    "#nb = Naive_users.predict(Train_X_Tfidf)\n",
    "#print(nb)"
   ]
  },
  {
   "cell_type": "code",
   "execution_count": 38,
   "metadata": {},
   "outputs": [],
   "source": [
    "import pickle\n",
    "with open('rf_pickle1', 'wb') as f:\n",
    "    pickle.dump(clf_4,f)\n",
    "    \n",
    "if __name__=='__main__':\n",
    "    with open('rf_pickle1', 'rb') as f:\n",
    "        Naive_users = pickle.load(f)\n",
    "        \n",
    "#nb = Naive_users.predict(Train_X_Tfidf)\n",
    "#print(nb)"
   ]
  },
  {
   "cell_type": "code",
   "execution_count": 39,
   "metadata": {},
   "outputs": [],
   "source": [
    "# Age_Bracket = 55\n",
    "# State_UnionTerritory_cat = 9\n",
    "# vulnareable = 2\n",
    "\n",
    "# Age_Bracket = 45\n",
    "# State_UnionTerritory_cat = 24\n",
    "\n",
    "Age_Bracket = 46\n",
    "State_UnionTerritory_cat = 13\n",
    "\n",
    "# Age_Bracket = 3\n",
    "# State_UnionTerritory_cat = 14\n",
    "# vulnareable = 1\n",
    "\n",
    "\n",
    "\n",
    "dfd = {\"Age_Bracket\" : Age_Bracket,\n",
    "\"State_UnionTerritory_cat\" : State_UnionTerritory_cat}"
   ]
  },
  {
   "cell_type": "code",
   "execution_count": 40,
   "metadata": {},
   "outputs": [
    {
     "data": {
      "text/html": [
       "<div>\n",
       "<style scoped>\n",
       "    .dataframe tbody tr th:only-of-type {\n",
       "        vertical-align: middle;\n",
       "    }\n",
       "\n",
       "    .dataframe tbody tr th {\n",
       "        vertical-align: top;\n",
       "    }\n",
       "\n",
       "    .dataframe thead th {\n",
       "        text-align: right;\n",
       "    }\n",
       "</style>\n",
       "<table border=\"1\" class=\"dataframe\">\n",
       "  <thead>\n",
       "    <tr style=\"text-align: right;\">\n",
       "      <th></th>\n",
       "      <th>Age_Bracket</th>\n",
       "      <th>State_UnionTerritory_cat</th>\n",
       "    </tr>\n",
       "  </thead>\n",
       "  <tbody>\n",
       "    <tr>\n",
       "      <th>0</th>\n",
       "      <td>46</td>\n",
       "      <td>13</td>\n",
       "    </tr>\n",
       "  </tbody>\n",
       "</table>\n",
       "</div>"
      ],
      "text/plain": [
       "   Age_Bracket  State_UnionTerritory_cat\n",
       "0           46                        13"
      ]
     },
     "execution_count": 40,
     "metadata": {},
     "output_type": "execute_result"
    }
   ],
   "source": [
    "new = pd.DataFrame(dfd, index=[0])\n",
    "new"
   ]
  },
  {
   "cell_type": "code",
   "execution_count": 41,
   "metadata": {},
   "outputs": [
    {
     "name": "stdout",
     "output_type": "stream",
     "text": [
      "lrpic\n",
      "1\n",
      "nbpic\n",
      "1\n",
      "svmpic\n",
      "1\n",
      "rfpic\n",
      "1\n"
     ]
    }
   ],
   "source": [
    "with open('lr_pickle1', 'rb') as f:\n",
    "    lrpic = pickle.load(f)\n",
    "    \n",
    "lrpic=lrpic.predict(new)\n",
    "print(\"lrpic\")\n",
    "print(int(lrpic))\n",
    "# lr_output=pred_logistic[0]\n",
    "# lr_output\n",
    "    \n",
    "with open('nb_pickle1', 'rb') as f:\n",
    "    nbpic = pickle.load(f)\n",
    "        \n",
    "nbpic=nbpic.predict(new)\n",
    "print(\"nbpic\")\n",
    "print(int(nbpic))\n",
    "# lr_output=pred_logistic[0]\n",
    "# lr_output\n",
    "        \n",
    "with open('svm_pickle1', 'rb') as f:\n",
    "    svmpic = pickle.load(f)\n",
    "        \n",
    "svmpic=svmpic.predict(new)\n",
    "print(\"svmpic\")\n",
    "print(int(svmpic))\n",
    "# lr_output=pred_logistic[0]\n",
    "# lr_output\n",
    "        \n",
    "with open('rf_pickle1', 'rb') as f:\n",
    "    rfpic = pickle.load(f)\n",
    "\n",
    "rfpic=rfpic.predict(new)\n",
    "print(\"rfpic\")\n",
    "print(int(rfpic))\n",
    "# lr_output=pred_logistic[0]\n",
    "# lr_output"
   ]
  },
  {
   "cell_type": "code",
   "execution_count": 42,
   "metadata": {},
   "outputs": [],
   "source": [
    "# pred_logistic=modl.predict(new)\n",
    "# print(pred_logistic)\n",
    "# lr_output=pred_logistic[0]\n",
    "# lr_output"
   ]
  }
 ],
 "metadata": {
  "kernelspec": {
   "display_name": "Python 3",
   "language": "python",
   "name": "python3"
  },
  "language_info": {
   "codemirror_mode": {
    "name": "ipython",
    "version": 3
   },
   "file_extension": ".py",
   "mimetype": "text/x-python",
   "name": "python",
   "nbconvert_exporter": "python",
   "pygments_lexer": "ipython3",
   "version": "3.7.6"
  }
 },
 "nbformat": 4,
 "nbformat_minor": 5
}
