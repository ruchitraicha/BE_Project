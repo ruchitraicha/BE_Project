{
 "cells": [
  {
   "cell_type": "code",
   "execution_count": 30,
   "id": "352a45f2",
   "metadata": {},
   "outputs": [
    {
     "name": "stdout",
     "output_type": "stream",
     "text": [
      "   Age_Bracket  state_code\n",
      "0           55           1\n",
      "rfpic\n",
      "2\n"
     ]
    },
    {
     "name": "stderr",
     "output_type": "stream",
     "text": [
      "C:\\Users\\Studio Pc-1\\.conda\\envs\\NewEnv\\lib\\site-packages\\sklearn\\base.py:313: UserWarning: Trying to unpickle estimator DecisionTreeClassifier from version 0.22 when using version 0.22.2.post1. This might lead to breaking code or invalid results. Use at your own risk.\n",
      "  warnings.warn(\n",
      "C:\\Users\\Studio Pc-1\\.conda\\envs\\NewEnv\\lib\\site-packages\\sklearn\\base.py:313: UserWarning: Trying to unpickle estimator RandomForestClassifier from version 0.22 when using version 0.22.2.post1. This might lead to breaking code or invalid results. Use at your own risk.\n",
      "  warnings.warn(\n"
     ]
    }
   ],
   "source": [
    "import pandas as pd\n",
    "import pickle\n",
    "from sklearn import preprocessing\n",
    "import numpy as np\n",
    "\n",
    "Age_Bracket = 55\n",
    "State_UnionTerritory_cat = \"Arunachal Pradesh\"\n",
    "\n",
    "data= pd.read_csv(\"processed.csv\")\n",
    "state_code = data.loc[data['State/UnionTerritory'] == State_UnionTerritory_cat, 'State/UnionTerritory_cat'].iloc[0]\n",
    "\n",
    "dfd = {\"Age_Bracket\" : Age_Bracket,\"state_code\" : state_code}\n",
    "\n",
    "new = pd.DataFrame(dfd, index=[0])\n",
    "print(new)\n",
    "\n",
    "with open('rf_pickle1', 'rb') as f:\n",
    "    rfpic = pickle.load(f)\n",
    "\n",
    "rfpic=rfpic.predict(new)\n",
    "print(\"rfpic\")\n",
    "print(int(rfpic))"
   ]
  },
  {
   "cell_type": "code",
   "execution_count": 25,
   "id": "8e509e73",
   "metadata": {},
   "outputs": [],
   "source": [
    "\n",
    "\n",
    "\n",
    "# state_code = data.loc[data[\"Haryana\"]==1] \n",
    "\n",
    "# dfd = {\"Age_Bracket\" : Age_Bracket,\"State_UnionTerritory_cat\" : State_UnionTerritory_cat}\n",
    "\n",
    "# new = pd.DataFrame(dfd, index=[0])\n",
    "# print(new)\n",
    "\n",
    "# new = pd.DataFrame(dfd, index=[0])\n",
    "# print(new)\n",
    "\n",
    "# with open('rf_pickle1', 'rb') as f:\n",
    "#     rfpic = pickle.load(f)\n",
    "\n",
    "# rfpic=rfpic.predict(new)\n",
    "# print(\"rfpic\")\n",
    "# print(int(rfpic))"
   ]
  },
  {
   "cell_type": "code",
   "execution_count": null,
   "id": "d0648fb7",
   "metadata": {},
   "outputs": [],
   "source": []
  },
  {
   "cell_type": "code",
   "execution_count": null,
   "id": "ee1fd17e",
   "metadata": {},
   "outputs": [],
   "source": []
  }
 ],
 "metadata": {
  "kernelspec": {
   "display_name": "Python 3",
   "language": "python",
   "name": "python3"
  },
  "language_info": {
   "codemirror_mode": {
    "name": "ipython",
    "version": 3
   },
   "file_extension": ".py",
   "mimetype": "text/x-python",
   "name": "python",
   "nbconvert_exporter": "python",
   "pygments_lexer": "ipython3",
   "version": "3.8.10"
  }
 },
 "nbformat": 4,
 "nbformat_minor": 5
}
